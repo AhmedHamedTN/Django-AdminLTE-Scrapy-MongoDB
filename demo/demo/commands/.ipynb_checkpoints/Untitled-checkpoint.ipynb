{
 "cells": [
  {
   "cell_type": "code",
   "execution_count": null,
   "metadata": {
    "collapsed": true
   },
   "outputs": [],
   "source": [
    "import operator\n",
    "from math import log\n",
    "import numpy\n",
    "\n",
    "class Trees(object):\n",
    "    '''\n",
    "    classdocs\n",
    "    '''\n",
    "    def createDataSet(self):\n",
    "        dataSet=[[1,1,'yes'],\n",
    "                 [1,1,'yes'],\n",
    "                 [1,0,'no'],\n",
    "                 [0,1,'no'],\n",
    "                 [0,1,'no']]\n",
    "        labels = ['no surfing','flippers']\n",
    "        return dataSet,labels\n",
    "    def __init__(self, params):\n",
    "        '''\n",
    "        Constructor\n",
    "        '''\n",
    "        trees = Trees()\n",
    "        dataSet,label = trees.createDataSet()\n",
    "        print dataSet"
   ]
  }
 ],
 "metadata": {
  "kernelspec": {
   "display_name": "Python 2",
   "language": "python",
   "name": "python2"
  },
  "language_info": {
   "codemirror_mode": {
    "name": "ipython",
    "version": 2
   },
   "file_extension": ".py",
   "mimetype": "text/x-python",
   "name": "python",
   "nbconvert_exporter": "python",
   "pygments_lexer": "ipython2",
   "version": "2.7.11"
  }
 },
 "nbformat": 4,
 "nbformat_minor": 0
}
